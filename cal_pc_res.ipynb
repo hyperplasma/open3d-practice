{
 "cells": [
  {
   "cell_type": "code",
   "execution_count": 22,
   "metadata": {},
   "outputs": [
    {
     "data": {
      "text/plain": [
       "True"
      ]
     },
     "execution_count": 22,
     "metadata": {},
     "output_type": "execute_result"
    }
   ],
   "source": [
    "import open3d as o3d\n",
    "import numpy as np\n",
    "\n",
    "# 绘制一个具有40000个点的椭圆形点云（保存为pointcloud/res_test.pcd）\n",
    "pcd = o3d.geometry.PointCloud()\n",
    "pcd.points = o3d.utility.Vector3dVector(np.random.uniform(-1, 1, size=(40000, 3)))\n",
    "o3d.io.write_point_cloud(\"pointcloud/res_test.pcd\", pcd)"
   ]
  },
  {
   "cell_type": "code",
   "execution_count": null,
   "metadata": {},
   "outputs": [],
   "source": [
    "\n",
    "print(\"->正在加载点云... \")\n",
    "pcd = o3d.io.read_point_cloud(\"pointcloud/res_test.pcd\")\n",
    "print(pcd)\n",
    "\n",
    "# 将点云设置为灰色\n",
    "pcd.paint_uniform_color([0.5, 0.5, 0.5])\n",
    "\n",
    "# 建立KDTree\n",
    "pcd_tree = o3d.geometry.KDTreeFlann(pcd)\n",
    "\n",
    "# 将第1500个点设置为紫色\n",
    "pcd.colors[1500] = [0.5, 0, 0.5]\n",
    "\n",
    "# 使用K近邻，将第1500个点最近的5000个点设置为蓝色\n",
    "print(\"使用K近邻，将第1500个点最近的5000个点设置为蓝色\")\n",
    "k = 2000   # 设置K的大小\n",
    "[num_k, idx_k, _] = pcd_tree.search_knn_vector_3d(pcd.points[1500], k)    # 返回邻域点的个数和索引\n",
    "np.asarray(pcd.colors)[idx_k[1:], :] = [0, 0, 1]  # 跳过最近邻点（查询点本身）进行赋色\n",
    "print(\"k邻域内的点数为：\", num_k)\n",
    "\n",
    "# 使用半径R近邻，将第1500个点半径（0.02）范围内的点设置为红色\n",
    "print(\"使用半径R近邻，将第1500个点半径（0.02）范围内的点设置为红色\")\n",
    "radius = 0.02   # 设置半径大小\n",
    "[num_radius, idx_radius, _] = pcd_tree.search_radius_vector_3d(pcd.points[1500], radius)   # 返回邻域点的个数和索引\n",
    "np.asarray(pcd.colors)[idx_radius[1:], :] = [1, 0, 0]  # 跳过最近邻点（查询点本身）进行赋色\n",
    "print(\"半径r邻域内的点数为：\", num_radius)\n",
    "\n",
    "# 使用混合邻域，将半径R邻域内不超过max_num个点设置为绿色\n",
    "print(\"使用混合邻域，将第1500个点半径R邻域内不超过max_num个点设置为绿色\")\n",
    "max_nn = 200   # 半径R邻域内最大点数\n",
    "[num_hybrid, idx_hybrid, _] = pcd_tree.search_hybrid_vector_3d(pcd.points[1500], radius, max_nn)\n",
    "np.asarray(pcd.colors)[idx_hybrid[1:], :] = [0, 1, 0]  # 跳过最近邻点（查询点本身）进行赋色\n",
    "print(\"混合邻域内的点数为：\", num_hybrid)\n",
    "\n",
    "print(\"->正在可视化点云...\")\n",
    "o3d.visualization.draw_geometries([pcd])\n"
   ]
  },
  {
   "cell_type": "code",
   "execution_count": null,
   "metadata": {},
   "outputs": [
    {
     "name": "stdout",
     "output_type": "stream",
     "text": [
      "->正在加载点云... \n",
      "原始点云： PointCloud with 1000 points.\n",
      "Octree分割\n",
      "->正在可视化Octree...\n"
     ]
    },
    {
     "name": "stderr",
     "output_type": "stream",
     "text": [
      "2025-03-10 19:08:46.368 python[69313:76308047] +[IMKClient subclass]: chose IMKClient_Legacy\n",
      "2025-03-10 19:08:46.368 python[69313:76308047] +[IMKInputSession subclass]: chose IMKInputSession_Legacy\n"
     ]
    },
    {
     "ename": "",
     "evalue": "",
     "output_type": "error",
     "traceback": [
      "\u001b[1;31m在当前单元格或上一个单元格中执行代码时 Kernel 崩溃。\n",
      "\u001b[1;31m请查看单元格中的代码，以确定故障的可能原因。\n",
      "\u001b[1;31m单击<a href='https://aka.ms/vscodeJupyterKernelCrash'>此处</a>了解详细信息。\n",
      "\u001b[1;31m有关更多详细信息，请查看 Jupyter <a href='command:jupyter.viewOutput'>log</a>。"
     ]
    }
   ],
   "source": [
    "import open3d as o3d\n",
    "import numpy as np\n",
    "\n",
    "# 加载点云\n",
    "print(\"->正在加载点云... \")\n",
    "pcd = o3d.io.read_point_cloud(\"pointcloud/example.pcd\")\n",
    "print(\"原始点云：\", pcd)\n",
    "\n",
    "# 构建Octree\n",
    "print(\"Octree分割\")\n",
    "octree = o3d.geometry.Octree(max_depth=5)\n",
    "octree.convert_from_point_cloud(pcd, size_expand=0.1)\n",
    "print(\"->正在可视化Octree...\")\n",
    "o3d.visualization.draw_geometries([octree])\n"
   ]
  }
 ],
 "metadata": {
  "kernelspec": {
   "display_name": "pytorch",
   "language": "python",
   "name": "python3"
  },
  "language_info": {
   "codemirror_mode": {
    "name": "ipython",
    "version": 3
   },
   "file_extension": ".py",
   "mimetype": "text/x-python",
   "name": "python",
   "nbconvert_exporter": "python",
   "pygments_lexer": "ipython3",
   "version": "3.11.5"
  }
 },
 "nbformat": 4,
 "nbformat_minor": 2
}
