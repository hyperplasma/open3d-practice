{
 "cells": [
  {
   "cell_type": "code",
   "execution_count": 1,
   "metadata": {},
   "outputs": [
    {
     "name": "stdout",
     "output_type": "stream",
     "text": [
      "->正在加载点云... \n",
      "原始点云： PointCloud with 40000 points.\n",
      "alpha=0.030\n"
     ]
    },
    {
     "name": "stderr",
     "output_type": "stream",
     "text": [
      "2025-03-10 21:26:09.848 python[73053:76545610] +[IMKClient subclass]: chose IMKClient_Legacy\n",
      "2025-03-10 21:26:09.848 python[73053:76545610] +[IMKInputSession subclass]: chose IMKInputSession_Legacy\n"
     ]
    }
   ],
   "source": [
    "import open3d as o3d\n",
    "\n",
    "# 加载点云\n",
    "print(\"->正在加载点云... \")\n",
    "pcd = o3d.io.read_point_cloud(\"pointcloud/res_test.pcd\")\n",
    "print(\"原始点云：\", pcd)\n",
    "\n",
    "# Alpha shapes\n",
    "alpha = 0.03\n",
    "print(f\"alpha={alpha:.3f}\")\n",
    "mesh = o3d.geometry.TriangleMesh.create_from_point_cloud_alpha_shape(pcd, alpha)\n",
    "mesh.compute_vertex_normals()\n",
    "o3d.visualization.draw_geometries([mesh], mesh_show_back_face=True)"
   ]
  }
 ],
 "metadata": {
  "kernelspec": {
   "display_name": "pytorch",
   "language": "python",
   "name": "python3"
  },
  "language_info": {
   "codemirror_mode": {
    "name": "ipython",
    "version": 3
   },
   "file_extension": ".py",
   "mimetype": "text/x-python",
   "name": "python",
   "nbconvert_exporter": "python",
   "pygments_lexer": "ipython3",
   "version": "3.11.5"
  }
 },
 "nbformat": 4,
 "nbformat_minor": 2
}
