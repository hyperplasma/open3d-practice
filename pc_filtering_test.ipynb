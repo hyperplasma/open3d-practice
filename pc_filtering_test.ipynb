{
 "cells": [
  {
   "cell_type": "code",
   "execution_count": null,
   "metadata": {},
   "outputs": [
    {
     "name": "stdout",
     "output_type": "stream",
     "text": [
      "->正在加载点云... \n",
      "原始点云： PointCloud with 1000 points.\n",
      "执行体素化点云\n",
      "->正在可视化体素...\n"
     ]
    },
    {
     "name": "stderr",
     "output_type": "stream",
     "text": [
      "2025-03-10 19:07:46.748 python[69226:76306342] +[IMKClient subclass]: chose IMKClient_Legacy\n",
      "2025-03-10 19:07:47.637 python[69226:76306342] +[IMKInputSession subclass]: chose IMKInputSession_Legacy\n"
     ]
    }
   ],
   "source": [
    "import open3d as o3d\n",
    "import numpy as np\n",
    "\n",
    "# 加载点云\n",
    "print(\"->正在加载点云... \")\n",
    "pcd = o3d.io.read_point_cloud(\"pointcloud/example.pcd\")\n",
    "print(\"原始点云：\", pcd)\n",
    "\n",
    "# 体素化点云\n",
    "print(\"执行体素化点云\")\n",
    "voxel_grid = o3d.geometry.VoxelGrid.create_from_point_cloud(pcd, voxel_size=0.005)\n",
    "print(\"->正在可视化体素...\")\n",
    "o3d.visualization.draw_geometries([voxel_grid])"
   ]
  }
 ],
 "metadata": {
  "kernelspec": {
   "display_name": "pytorch",
   "language": "python",
   "name": "python3"
  },
  "language_info": {
   "codemirror_mode": {
    "name": "ipython",
    "version": 3
   },
   "file_extension": ".py",
   "mimetype": "text/x-python",
   "name": "python",
   "nbconvert_exporter": "python",
   "pygments_lexer": "ipython3",
   "version": "3.11.5"
  }
 },
 "nbformat": 4,
 "nbformat_minor": 2
}
