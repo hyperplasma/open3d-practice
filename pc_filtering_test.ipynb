{
 "cells": [
  {
   "cell_type": "code",
   "execution_count": 1,
   "metadata": {},
   "outputs": [
    {
     "name": "stdout",
     "output_type": "stream",
     "text": [
      "->正在加载点云... \n",
      "原始点云： PointCloud with 1000 points.\n",
      "执行体素化点云\n",
      "->正在可视化体素...\n"
     ]
    },
    {
     "name": "stderr",
     "output_type": "stream",
     "text": [
      "2025-03-10 19:07:46.748 python[69226:76306342] +[IMKClient subclass]: chose IMKClient_Legacy\n",
      "2025-03-10 19:07:47.637 python[69226:76306342] +[IMKInputSession subclass]: chose IMKInputSession_Legacy\n"
     ]
    }
   ],
   "source": [
    "import open3d as o3d\n",
    "import numpy as np\n",
    "\n",
    "# 加载点云\n",
    "print(\"->正在加载点云... \")\n",
    "pcd = o3d.io.read_point_cloud(\"pointcloud/example.pcd\")\n",
    "print(\"原始点云：\", pcd)\n",
    "\n",
    "# 体素化点云\n",
    "print(\"执行体素化点云\")\n",
    "voxel_grid = o3d.geometry.VoxelGrid.create_from_point_cloud(pcd, voxel_size=0.005)\n",
    "print(\"->正在可视化体素...\")\n",
    "o3d.visualization.draw_geometries([voxel_grid])"
   ]
  },
  {
   "cell_type": "code",
   "execution_count": null,
   "metadata": {},
   "outputs": [],
   "source": [
    "import open3d as o3d\n",
    "import numpy as np\n",
    "\n",
    "# 点云体素化函数\n",
    "def get_mesh(file_path):\n",
    "    mesh = o3d.io.read_triangle_mesh(file_path)\n",
    "    mesh.compute_vertex_normals()\n",
    "    return mesh\n",
    "\n",
    "# 点云体素化\n",
    "print(\"->正在进行点云体素化...\")\n",
    "file_path = \"pointcloud/example.ply\"\n",
    "N = 2000\t# 将点划分为N个体素\n",
    "pcd = get_mesh(file_path).sample_points_poisson_disk(N)\n",
    "\n",
    "# Fit to unit cube\n",
    "pcd.scale(1 / np.max(pcd.get_max_bound() - pcd.get_min_bound()), center=pcd.get_center())\n",
    "pcd.colors = o3d.utility.Vector3dVector(np.random.uniform(0, 1, size=(N, 3)))\n",
    "print(\"体素下采样点云：\", pcd)\n",
    "print(\"->正在可视化体素下采样点云...\")\n",
    "o3d.visualization.draw_geometries([pcd])\n",
    "\n",
    "print(\"执行体素化点云\")\n",
    "voxel_grid = o3d.geometry.VoxelGrid.create_from_point_cloud(pcd, voxel_size=0.05)\n",
    "print(\"->正在可视化体素...\")\n",
    "o3d.visualization.draw_geometries([voxel_grid])"
   ]
  },
  {
   "cell_type": "code",
   "execution_count": 5,
   "metadata": {},
   "outputs": [
    {
     "name": "stdout",
     "output_type": "stream",
     "text": [
      "->正在加载点云... \n",
      "原始点云： PointCloud with 40000 points.\n",
      "->正在进行统计滤波...\n",
      "统计滤波后的点云： PointCloud with 37727 points.\n",
      "噪声点云： PointCloud with 2273 points.\n"
     ]
    }
   ],
   "source": [
    "import open3d as o3d\n",
    "import numpy as np\n",
    "\n",
    "print(\"->正在加载点云... \")\n",
    "pcd = o3d.io.read_point_cloud(\"pointcloud/res_test.pcd\")\n",
    "print(\"原始点云：\", pcd)\n",
    "\n",
    "# 统计滤波\n",
    "print(\"->正在进行统计滤波...\")\n",
    "num_neighbors = 200 # K邻域点的个数\n",
    "std_ratio = 2.0 # 标准差乘数\n",
    "# 执行统计滤波，返回滤波后的点云sor_pcd和对应的索引ind\n",
    "sor_pcd, ind = pcd.remove_statistical_outlier(num_neighbors, std_ratio)\n",
    "sor_pcd.paint_unform_color([0, 0, 1])\n",
    "print(\"统计滤波后的点云：\", sor_pcd)\n",
    "sor_pcd.paint_uniform_color([0, 0, 1])\n",
    "# 提取噪声点云\n",
    "sor_noise_pcd = pcd.select_by_index(ind, invert=True)\n",
    "print(\"噪声点云：\", sor_noise_pcd)\n",
    "sor_noise_pcd.paint_uniform_color([1, 0, 0])\n",
    "\n",
    "# 可视化统计滤波后的点云和噪声点云\n",
    "o3d.visualization.draw_geometries([sor_pcd, sor_noise_pcd])"
   ]
  },
  {
   "cell_type": "code",
   "execution_count": null,
   "metadata": {},
   "outputs": [],
   "source": [
    "import open3d as o3d\n",
    "import numpy as np\n",
    "\n",
    "print(\"->正在加载点云... \")\n",
    "pcd = o3d.io.read_point_cloud(\"pointcloud/res_test.pcd\")\n",
    "print(\"原始点云：\", pcd)\n",
    "\n",
    "# 半径滤波\n",
    "print(\"->正在进行半径滤波...\")\n",
    "num_points = 600  # 邻域球内的最少点数，低于该值的点为噪声点\n",
    "radius = 0.5    # 邻域半径大小\n",
    "# 执行半径滤波，返回滤波后的点云sor_pcd和对应的索引ind\n",
    "sor_pcd, ind = pcd.remove_radius_outlier(num_points, radius)\n",
    "sor_pcd.paint_uniform_color([0, 0, 1])\n",
    "print(\"半径滤波后的点云：\", sor_pcd)\n",
    "sor_pcd.paint_uniform_color([0, 0, 1])\n",
    "# 提取噪声点云\n",
    "sor_noise_pcd = pcd.select_by_index(ind,invert = True)\n",
    "print(\"噪声点云：\", sor_noise_pcd)\n",
    "sor_noise_pcd.paint_uniform_color([1, 0, 0])\n",
    "\n",
    "# 可视化半径滤波后的点云和噪声点云\n",
    "o3d.visualization.draw_geometries([sor_pcd, sor_noise_pcd])"
   ]
  }
 ],
 "metadata": {
  "kernelspec": {
   "display_name": "pytorch",
   "language": "python",
   "name": "python3"
  },
  "language_info": {
   "codemirror_mode": {
    "name": "ipython",
    "version": 3
   },
   "file_extension": ".py",
   "mimetype": "text/x-python",
   "name": "python",
   "nbconvert_exporter": "python",
   "pygments_lexer": "ipython3",
   "version": "3.11.5"
  }
 },
 "nbformat": 4,
 "nbformat_minor": 2
}
