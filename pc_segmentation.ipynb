{
 "cells": [
  {
   "cell_type": "code",
   "execution_count": null,
   "metadata": {},
   "outputs": [],
   "source": [
    "import open3d as o3d\n",
    "import numpy as np\n",
    "import matplotlib.pyplot as plt\n",
    "\n",
    "print(\"->正在加载点云... \")\n",
    "pcd = o3d.io.read_point_cloud(\"pointcloud/test.pcd\")\n",
    "print(pcd)\n",
    "\n",
    "print(\"->正在DBSCAN聚类...\")\n",
    "eps = 0.5           # 同一聚类中最大点间距\n",
    "min_points = 50     # 有效聚类的最小点数\n",
    "with o3d.utility.VerbosityContextManager(o3d.utility.VerbosityLevel.Debug) as cm:\n",
    "    labels = np.array(pcd.cluster_dbscan(eps, min_points, print_progress=True))\n",
    "max_label = labels.max()\t# 获取聚类标签的最大值[-1,0,1,2,...,max_label]，label=-1为噪声，因此总聚类个数为max_label + 1\n",
    "print(f\"Point cloud has {max_label + 1} clusters.\")\n",
    "colors = plt.get_cmap(\"tab20\")(labels / (max_label if max_label > 0 else 1))\n",
    "colors[labels < 0] = 0  # labels = -1 的簇为噪声，以黑色显示\n",
    "pcd.colors = o3d.utility.Vector3dVector(colors[:, :3])\n",
    "o3d.visualization.draw_geometries([pcd])"
   ]
  },
  {
   "cell_type": "code",
   "execution_count": 1,
   "metadata": {},
   "outputs": [
    {
     "name": "stdout",
     "output_type": "stream",
     "text": [
      "->正在加载点云... \n",
      "PointCloud with 40000 points.\n",
      "->正在RANSAC平面分割...\n",
      "Plane equation: 0.02x + 0.74y + 0.67z + 0.03 = 0\n",
      "PointCloud with 10555 points.\n",
      "PointCloud with 29445 points.\n"
     ]
    },
    {
     "name": "stderr",
     "output_type": "stream",
     "text": [
      "2025-03-10 20:58:59.942 python[71797:76431310] +[IMKClient subclass]: chose IMKClient_Legacy\n",
      "2025-03-10 20:58:59.942 python[71797:76431310] +[IMKInputSession subclass]: chose IMKInputSession_Legacy\n"
     ]
    }
   ],
   "source": [
    "import open3d as o3d\n",
    "\n",
    "print(\"->正在加载点云... \")\n",
    "pcd = o3d.io.read_point_cloud(\"pointcloud/res_test.pcd\")\n",
    "print(pcd)\n",
    "\n",
    "print(\"->正在RANSAC平面分割...\")\n",
    "distance_threshold = 0.2    # 内点到平面模型的最大距离\n",
    "ransac_n = 3                # 用于拟合平面的采样点数\n",
    "num_iterations = 1000       # 最大迭代次数\n",
    "\n",
    "# 返回模型系数plane_model和内点索引inliers\n",
    "plane_model, inliers = pcd.segment_plane(distance_threshold, ransac_n, num_iterations)\n",
    "\n",
    "# 输出平面方程\n",
    "[a, b, c, d] = plane_model\n",
    "print(f\"Plane equation: {a:.2f}x + {b:.2f}y + {c:.2f}z + {d:.2f} = 0\")\n",
    "\n",
    "# 平面内点点云，标记为蓝色\n",
    "inlier_cloud = pcd.select_by_index(inliers)\n",
    "inlier_cloud.paint_uniform_color([0, 0, 1.0])\n",
    "print(inlier_cloud)\n",
    "\n",
    "# 平面外点点云，标记为红色\n",
    "outlier_cloud = pcd.select_by_index(inliers, invert=True)\n",
    "outlier_cloud.paint_uniform_color([1.0, 0, 0])\n",
    "print(outlier_cloud)\n",
    "\n",
    "# 可视化平面分割结果\n",
    "o3d.visualization.draw_geometries([inlier_cloud, outlier_cloud])"
   ]
  },
  {
   "cell_type": "code",
   "execution_count": null,
   "metadata": {},
   "outputs": [],
   "source": [
    "import open3d as o3d\n",
    "import numpy as np\n",
    "\n",
    "def plane_detection(pcd, tolerance=50):\n",
    "    current_pcd = pcd\n",
    "    planes = []\n",
    "    while len(current_pcd.points) > tolerance:\n",
    "        plane_model, inliers = current_pcd.segment_plane(distance_threshold=0.3, ransac_n=5, num_iterations=1000)\n",
    "        if len(inliers) < tolerance:\n",
    "            break\n",
    "        inlier_indices = np.asarray(inliers)\n",
    "        inlier_cloud = current_pcd.select_by_index(inlier_indices)\n",
    "        current_pcd = current_pcd.select_by_index(inlier_indices, invert=True)\n",
    "\n",
    "        normal_vector = plane_model[:3]\n",
    "        point_in_plane = -normal_vector * plane_model[3] / np.linalg.norm(normal_vector) ** 2\n",
    "        endpoint = point_in_plane + normal_vector * 2\n",
    "\n",
    "        line = o3d.geometry.LineSet()\n",
    "        line.points = o3d.utility.Vector3dVector([point_in_plane, endpoint])\n",
    "        line.lines = o3d.utility.Vector2iVector([[0, 1]])\n",
    "\n",
    "        planes.append(line)\n",
    "        planes.append(inlier_cloud)\n",
    "\n",
    "    return current_pcd, planes\n",
    "\n",
    "def main(file_path):\n",
    "    pcd = o3d.io.read_point_cloud(file_path)\n",
    "\n",
    "    remain_pcd, planes = plane_detection(pcd)\n",
    "    for plane in planes:\n",
    "        plane.paint_uniform_color(np.random.rand(3))\n",
    "\n",
    "    mesh_frame = o3d.geometry.TriangleMesh.create_coordinate_frame(size=5.0, origin=[0,0,0])\n",
    "    # 可视化结果\n",
    "    o3d.visualization.draw_geometries([remain_pcd, *planes, mesh_frame])\n",
    "\n",
    "main(\"pointcloud/res_test.pcd\")"
   ]
  },
  {
   "cell_type": "code",
   "execution_count": 3,
   "metadata": {},
   "outputs": [
    {
     "name": "stdout",
     "output_type": "stream",
     "text": [
      "->正在加载点云... \n",
      "PointCloud with 40000 points.\n",
      "->正在剔除隐藏点...\n",
      "定义隐藏点去除的参数\n",
      "可视点个数为： PointCloud with 1993 points.\n",
      "隐藏点个数为： PointCloud with 38007 points.\n",
      "->正在可视化可视点和隐藏点点云...\n"
     ]
    }
   ],
   "source": [
    "import open3d as o3d\n",
    "import numpy as np\n",
    "\n",
    "print(\"->正在加载点云... \")\n",
    "pcd = o3d.io.read_point_cloud(\"pointcloud/res_test.pcd\")\n",
    "print(pcd)\n",
    "\n",
    "print(\"->正在剔除隐藏点...\")\n",
    "diameter = np.linalg.norm(np.asarray(pcd.get_max_bound()) - np.asarray(pcd.get_min_bound()))\n",
    "print(\"定义隐藏点去除的参数\")\n",
    "camera = [0, 0, diameter]       # 视点位置\n",
    "radius = diameter * 100         # 噪声点云半径（The radius of the sperical projection）\n",
    "_, pt_map = pcd.hidden_point_removal(camera, radius)    # 获取视点位置能看到的所有点的索引pt_map\n",
    "\n",
    "# 可视点点云\n",
    "pcd_visible = pcd.select_by_index(pt_map)\n",
    "pcd_visible.paint_uniform_color([0, 0, 1])\t# 可视点为蓝色\n",
    "print(\"可视点个数为：\", pcd_visible)\n",
    "# 隐藏点点云\n",
    "pcd_hidden = pcd.select_by_index(pt_map, invert=True)\n",
    "pcd_hidden.paint_uniform_color([1, 0, 0])\t# 隐藏点为红色\n",
    "print(\"隐藏点个数为：\", pcd_hidden)\n",
    "print(\"->正在可视化可视点和隐藏点点云...\")\n",
    "o3d.visualization.draw_geometries([pcd_visible, pcd_hidden])\n"
   ]
  }
 ],
 "metadata": {
  "kernelspec": {
   "display_name": "pytorch",
   "language": "python",
   "name": "python3"
  },
  "language_info": {
   "codemirror_mode": {
    "name": "ipython",
    "version": 3
   },
   "file_extension": ".py",
   "mimetype": "text/x-python",
   "name": "python",
   "nbconvert_exporter": "python",
   "pygments_lexer": "ipython3",
   "version": "3.11.5"
  }
 },
 "nbformat": 4,
 "nbformat_minor": 2
}
