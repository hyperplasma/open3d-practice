{
 "cells": [
  {
   "cell_type": "markdown",
   "metadata": {},
   "source": [
    "https://www.open3d.org/docs/latest/tutorial/Advanced/surface_reconstruction.html"
   ]
  },
  {
   "cell_type": "code",
   "execution_count": 1,
   "metadata": {},
   "outputs": [
    {
     "data": {
      "text/plain": [
       "'0.19.0'"
      ]
     },
     "execution_count": 1,
     "metadata": {},
     "output_type": "execute_result"
    }
   ],
   "source": [
    "import open3d as o3d\n",
    "import numpy as np\n",
    "\n",
    "o3d.__version__"
   ]
  },
  {
   "cell_type": "code",
   "execution_count": 4,
   "metadata": {},
   "outputs": [
    {
     "name": "stderr",
     "output_type": "stream",
     "text": [
      "2025-03-09 22:03:44.552 python[48169:75290733] +[IMKClient subclass]: chose IMKClient_Legacy\n",
      "2025-03-09 22:03:44.552 python[48169:75290733] +[IMKInputSession subclass]: chose IMKInputSession_Legacy\n"
     ]
    }
   ],
   "source": [
    "# 随机生成一个球体，保存为pcd文件\n",
    "pcd = o3d.geometry.PointCloud()\n",
    "pcd.points = o3d.utility.Vector3dVector(np.random.uniform(-1, 1, size=(1000, 3)))\n",
    "o3d.io.write_point_cloud(\"example.pcd\", pcd)\n",
    "\n",
    "# 读取pcd文件\n",
    "pcd = o3d.io.read_point_cloud(\"example.pcd\")\n",
    "# 可视化\n",
    "o3d.visualization.draw_geometries([pcd])"
   ]
  },
  {
   "cell_type": "code",
   "execution_count": 3,
   "metadata": {},
   "outputs": [
    {
     "ename": "TypeError",
     "evalue": "write_image(): incompatible function arguments. The following argument types are supported:\n    1. (filename: os.PathLike, image: open3d.cpu.pybind.geometry.Image, quality: int = -1) -> bool\n\nInvoked with: 'example.png', PointCloud with 1000 points.",
     "output_type": "error",
     "traceback": [
      "\u001b[0;31m---------------------------------------------------------------------------\u001b[0m",
      "\u001b[0;31mTypeError\u001b[0m                                 Traceback (most recent call last)",
      "Cell \u001b[0;32mIn[3], line 6\u001b[0m\n\u001b[1;32m      4\u001b[0m pcd \u001b[38;5;241m=\u001b[39m o3d\u001b[38;5;241m.\u001b[39mio\u001b[38;5;241m.\u001b[39mread_point_cloud(\u001b[38;5;124m\"\u001b[39m\u001b[38;5;124mexample.pcd\u001b[39m\u001b[38;5;124m\"\u001b[39m)\n\u001b[1;32m      5\u001b[0m \u001b[38;5;66;03m# 将example.pcd文件转换为png图像\u001b[39;00m\n\u001b[0;32m----> 6\u001b[0m o3d\u001b[38;5;241m.\u001b[39mio\u001b[38;5;241m.\u001b[39mwrite_image(\u001b[38;5;124m\"\u001b[39m\u001b[38;5;124mexample.png\u001b[39m\u001b[38;5;124m\"\u001b[39m, pcd)\n\u001b[1;32m      7\u001b[0m \u001b[38;5;66;03m# 显示example.png图像\u001b[39;00m\n\u001b[1;32m      8\u001b[0m \u001b[38;5;28;01mimport\u001b[39;00m \u001b[38;5;21;01mmatplotlib\u001b[39;00m\u001b[38;5;21;01m.\u001b[39;00m\u001b[38;5;21;01mpyplot\u001b[39;00m \u001b[38;5;28;01mas\u001b[39;00m \u001b[38;5;21;01mplt\u001b[39;00m\n",
      "\u001b[0;31mTypeError\u001b[0m: write_image(): incompatible function arguments. The following argument types are supported:\n    1. (filename: os.PathLike, image: open3d.cpu.pybind.geometry.Image, quality: int = -1) -> bool\n\nInvoked with: 'example.png', PointCloud with 1000 points."
     ]
    }
   ],
   "source": [
    "# 将example.pcd文件转换为png图像\n",
    "\n",
    "# 读取pcd文件\n",
    "pcd = o3d.io.read_point_cloud(\"example.pcd\")\n",
    "# 将example.pcd文件转换为png图像\n",
    "o3d.io.write_image(\"example.png\", pcd)\n",
    "# 显示example.png图像\n",
    "import matplotlib.pyplot as plt\n",
    "plt.imshow(plt.imread(\"example.png\"))\n",
    "plt.show()"
   ]
  },
  {
   "cell_type": "code",
   "execution_count": null,
   "metadata": {},
   "outputs": [
    {
     "ename": "TypeError",
     "evalue": "write_image(): incompatible function arguments. The following argument types are supported:\n    1. (filename: os.PathLike, image: open3d.cpu.pybind.geometry.Image, quality: int = -1) -> bool\n\nInvoked with: 'example.png', PointCloud with 1000 points.",
     "output_type": "error",
     "traceback": [
      "\u001b[0;31m---------------------------------------------------------------------------\u001b[0m\n",
      "\u001b[0;31mTypeError\u001b[0m                                 Traceback (most recent call last)\n",
      "Cell \u001b[0;32mIn[3], line 6\u001b[0m\n",
      "\u001b[1;32m      4\u001b[0m pcd \u001b[38;5;241m=\u001b[39m o3d\u001b[38;5;241m.\u001b[39mio\u001b[38;5;241m.\u001b[39mread_point_cloud(\u001b[38;5;124m\"\u001b[39m\u001b[38;5;124mexample.pcd\u001b[39m\u001b[38;5;124m\"\u001b[39m)\n",
      "\u001b[1;32m      5\u001b[0m \u001b[38;5;66;03m# 将example.pcd文件转换为png图像\u001b[39;00m\n",
      "\u001b[0;32m----> 6\u001b[0m o3d\u001b[38;5;241m.\u001b[39mio\u001b[38;5;241m.\u001b[39mwrite_image(\u001b[38;5;124m\"\u001b[39m\u001b[38;5;124mexample.png\u001b[39m\u001b[38;5;124m\"\u001b[39m, pcd)\n",
      "\u001b[1;32m      7\u001b[0m \u001b[38;5;66;03m# 显示example.png图像\u001b[39;00m\n",
      "\u001b[1;32m      8\u001b[0m \u001b[38;5;28;01mimport\u001b[39;00m \u001b[38;5;21;01mmatplotlib\u001b[39;00m\u001b[38;5;21;01m.\u001b[39;00m\u001b[38;5;21;01mpyplot\u001b[39;00m \u001b[38;5;28;01mas\u001b[39;00m \u001b[38;5;21;01mplt\u001b[39;00m\n",
      "\n",
      "\u001b[0;31mTypeError\u001b[0m: write_image(): incompatible function arguments. The following argument types are supported:\n",
      "    1. (filename: os.PathLike, image: open3d.cpu.pybind.geometry.Image, quality: int = -1) -> bool\n",
      "\n",
      "Invoked with: 'example.png', PointCloud with 1000 points."
     ]
    }
   ],
   "source": [
    "---------------------------------------------------------------------------\n",
    "TypeError                                 Traceback (most recent call last)\n",
    "Cell In[3], line 6\n",
    "      4 pcd = o3d.io.read_point_cloud(\"example.pcd\")\n",
    "      5 # 将example.pcd文件转换为png图像\n",
    "----> 6 o3d.io.write_image(\"example.png\", pcd)\n",
    "      7 # 显示example.png图像\n",
    "      8 import matplotlib.pyplot as plt\n",
    "\n",
    "TypeError: write_image(): incompatible function arguments. The following argument types are supported:\n",
    "    1. (filename: os.PathLike, image: open3d.cpu.pybind.geometry.Image, quality: int = -1) -> bool\n",
    "\n",
    "Invoked with: 'example.png', PointCloud with 1000 points."
   ]
  }
 ],
 "metadata": {
  "kernelspec": {
   "display_name": "pytorch",
   "language": "python",
   "name": "python3"
  },
  "language_info": {
   "codemirror_mode": {
    "name": "ipython",
    "version": 3
   },
   "file_extension": ".py",
   "mimetype": "text/x-python",
   "name": "python",
   "nbconvert_exporter": "python",
   "pygments_lexer": "ipython3",
   "version": "3.11.5"
  }
 },
 "nbformat": 4,
 "nbformat_minor": 2
}
